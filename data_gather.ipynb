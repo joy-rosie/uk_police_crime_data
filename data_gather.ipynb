{
 "cells": [
  {
   "cell_type": "code",
   "execution_count": 1,
   "metadata": {},
   "outputs": [],
   "source": [
    "import os\n",
    "import pandas as pd\n",
    "import requests\n",
    "import io\n",
    "import zipfile"
   ]
  },
  {
   "cell_type": "code",
   "execution_count": 2,
   "metadata": {},
   "outputs": [],
   "source": [
    "base_url = 'https://data.police.uk/data/archive/'\n",
    "\n",
    "def create_full_url(date, base_url=base_url):\n",
    "    return f'{base_url}{date:%Y-%m}.zip'"
   ]
  },
  {
   "cell_type": "code",
   "execution_count": 3,
   "metadata": {},
   "outputs": [],
   "source": [
    "data_path = r'D:\\uk_police_crime_data\\police_data'\n",
    "\n",
    "# This line below is a bit manual and needs to be updated depending on the latest date\n",
    "dates_to_download = [pd.Timestamp(year=2017, month=4, day=1), pd.Timestamp(year=2019, month=5, day=1)]"
   ]
  },
  {
   "cell_type": "code",
   "execution_count": 4,
   "metadata": {},
   "outputs": [],
   "source": [
    "def download_unzip_data(url, data_path=data_path):\n",
    "    print('  - Downloading...')\n",
    "    response = requests.get(url)\n",
    "    print('  - Unzipping...')\n",
    "    zipper = zipfile.ZipFile(io.BytesIO(response.content))\n",
    "    zipper.extractall(data_path)"
   ]
  },
  {
   "cell_type": "code",
   "execution_count": 5,
   "metadata": {},
   "outputs": [
    {
     "name": "stdout",
     "output_type": "stream",
     "text": [
      "Downloading and unzipping from: https://data.police.uk/data/archive/2017-04.zip\n",
      "Downloading and unzipping from: https://data.police.uk/data/archive/2019-05.zip\n"
     ]
    }
   ],
   "source": [
    "for date in dates_to_download:\n",
    "    url = create_full_url(date=date)\n",
    "    print(f'Downloading and unzipping from: {url}')\n",
    "    download_unzip_data(url=url)"
   ]
  }
 ],
 "metadata": {
  "kernelspec": {
   "display_name": "Python 3",
   "language": "python",
   "name": "python3"
  },
  "language_info": {
   "codemirror_mode": {
    "name": "ipython",
    "version": 3
   },
   "file_extension": ".py",
   "mimetype": "text/x-python",
   "name": "python",
   "nbconvert_exporter": "python",
   "pygments_lexer": "ipython3",
   "version": "3.7.3"
  }
 },
 "nbformat": 4,
 "nbformat_minor": 2
}
