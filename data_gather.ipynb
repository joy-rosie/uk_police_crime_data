{
 "cells": [
  {
   "cell_type": "code",
   "execution_count": 9,
   "metadata": {},
   "outputs": [],
   "source": [
    "import os\n",
    "import pandas as pd\n",
    "from shutil import copyfile"
   ]
  },
  {
   "cell_type": "code",
   "execution_count": 10,
   "metadata": {},
   "outputs": [],
   "source": [
    "data_path = r'D:\\uk_police_crime_data\\police_data'\n",
    "region = 'metropolitan'\n",
    "data_type = 'street'\n",
    "start_date = pd.Timestamp(year=2010, month=12, day=1)\n",
    "end_date = pd.Timestamp(year=2016, month=2, day=1)\n",
    "\n",
    "base_url = 'https://data.police.uk/data/archive/'\n",
    "\n",
    "from_folder = 'archive'"
   ]
  },
  {
   "cell_type": "code",
   "execution_count": 11,
   "metadata": {},
   "outputs": [],
   "source": [
    "def create_full_url(date, base_url=base_url):\n",
    "    return f'{base_url}{date:%Y-%m}.zip'"
   ]
  },
  {
   "cell_type": "code",
   "execution_count": 12,
   "metadata": {},
   "outputs": [
    {
     "data": {
      "text/plain": [
       "DatetimeIndex(['2010-12-31', '2011-01-31', '2011-02-28', '2011-03-31',\n",
       "               '2011-04-30', '2011-05-31', '2011-06-30', '2011-07-31',\n",
       "               '2011-08-31', '2011-09-30', '2011-10-31', '2011-11-30',\n",
       "               '2011-12-31', '2012-01-31', '2012-02-29', '2012-03-31',\n",
       "               '2012-04-30', '2012-05-31', '2012-06-30', '2012-07-31',\n",
       "               '2012-08-31', '2012-09-30', '2012-10-31', '2012-11-30',\n",
       "               '2012-12-31', '2013-01-31', '2013-02-28', '2013-03-31',\n",
       "               '2013-04-30', '2013-05-31', '2013-06-30', '2013-07-31',\n",
       "               '2013-08-31', '2013-09-30', '2013-10-31', '2013-11-30',\n",
       "               '2013-12-31', '2014-01-31', '2014-02-28', '2014-03-31',\n",
       "               '2014-04-30', '2014-05-31', '2014-06-30', '2014-07-31',\n",
       "               '2014-08-31', '2014-09-30', '2014-10-31', '2014-11-30',\n",
       "               '2014-12-31', '2015-01-31', '2015-02-28', '2015-03-31',\n",
       "               '2015-04-30', '2015-05-31', '2015-06-30', '2015-07-31',\n",
       "               '2015-08-31', '2015-09-30', '2015-10-31', '2015-11-30',\n",
       "               '2015-12-31'],\n",
       "              dtype='datetime64[ns]', freq='M')"
      ]
     },
     "metadata": {},
     "output_type": "display_data"
    }
   ],
   "source": [
    "data_date_range = pd.date_range(start=start_date, end=end_date, freq='M')\n",
    "display(data_date_range)"
   ]
  },
  {
   "cell_type": "code",
   "execution_count": 15,
   "metadata": {},
   "outputs": [],
   "source": [
    "for date in data_date_range:\n",
    "    from_path = os.path.join(data_path, from_folder, f'{date:%Y-%m}', f'{date:%Y-%m}-{region}-{data_type}.csv')\n",
    "    to_folder_path = os.path.join(data_path, f'{date:%Y-%m}')\n",
    "    os.mkdir(to_folder_path)\n",
    "    to_path = os.path.join(to_folder_path, f'{date:%Y-%m}-{region}-{data_type}.csv')\n",
    "    copyfile(from_path, to_path)"
   ]
  }
 ],
 "metadata": {
  "kernelspec": {
   "display_name": "Python 3",
   "language": "python",
   "name": "python3"
  },
  "language_info": {
   "codemirror_mode": {
    "name": "ipython",
    "version": 3
   },
   "file_extension": ".py",
   "mimetype": "text/x-python",
   "name": "python",
   "nbconvert_exporter": "python",
   "pygments_lexer": "ipython3",
   "version": "3.6.8"
  }
 },
 "nbformat": 4,
 "nbformat_minor": 2
}
